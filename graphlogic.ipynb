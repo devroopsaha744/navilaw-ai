{
 "cells": [
  {
   "cell_type": "code",
   "execution_count": 2,
   "metadata": {},
   "outputs": [],
   "source": [
    "from dotenv import load_dotenv\n",
    "import os\n",
    "load_dotenv()\n",
    "\n",
    "groq_api_key = os.getenv(\"GROQ_API_KEY\")\n",
    "tavily_api_key = os.getenv(\"TAVILY_API_KEY\")"
   ]
  },
  {
   "cell_type": "code",
   "execution_count": 27,
   "metadata": {},
   "outputs": [],
   "source": [
    "from langchain_groq import ChatGroq\n",
    "\n",
    "chat = ChatGroq(model = \"mixtral-8x7b-32768\", api_key=groq_api_key)"
   ]
  },
  {
   "cell_type": "code",
   "execution_count": 4,
   "metadata": {},
   "outputs": [],
   "source": [
    "from langchain_community.tools import TavilySearchResults\n",
    "\n",
    "# Configure Tavily tool to search only in Indian legal databases\n",
    "tavily_tool = TavilySearchResults(\n",
    "    max_results=5,\n",
    "    search_depth=\"advanced\",\n",
    "    include_answer=True,\n",
    "    include_raw_content=True,\n",
    "    include_images=False,\n",
    "    include_domains=[\n",
    "        \"indiankanoon.org\",        # Indian case law\n",
    "        \"barandbench.com\",         # Legal news and updates\n",
    "        \"legallyindia.com\",        # Legal developments in India\n",
    "        \"scconline.com\",           # Supreme Court Cases Online\n",
    "        \"lawtimesjournal.in\",      # Legal news and case analysis\n",
    "        \"lawyersclubindia.com\",    # Legal community discussions\n",
    "        \"vlex.in\",                 # Global legal information with Indian focus\n",
    "        \"taxmann.com\"              # Taxation and corporate law in India\n",
    "    ],\n",
    "    # Optionally, exclude other irrelevant sources\n",
    "    exclude_domains=[\"globalsearch.com\", \"genericnews.com\"]\n",
    ")\n"
   ]
  },
  {
   "cell_type": "code",
   "execution_count": 14,
   "metadata": {},
   "outputs": [],
   "source": [
    "# Function to extract text from PDFs in a directory\n",
    "from PyPDF2 import PdfReader\n",
    "def extract_text_from_pdfs(directory_path):\n",
    "    extracted_text = \"\"\n",
    "    for filename in os.listdir(directory_path):\n",
    "        if filename.endswith(\".pdf\"):\n",
    "            file_path = os.path.join(directory_path, filename)\n",
    "            with open(file_path, 'rb') as file:\n",
    "                pdf_reader = PdfReader(file)\n",
    "                for page in pdf_reader.pages:\n",
    "                    extracted_text += page.extract_text() + \"\\n\\n\"\n",
    "    return extracted_text"
   ]
  },
  {
   "cell_type": "code",
   "execution_count": 5,
   "metadata": {},
   "outputs": [],
   "source": [
    "#RAG method\n",
    "from PyPDF2 import PdfReader\n",
    "from langchain.document_loaders import PyPDFLoader\n",
    "from langchain.docstore.document import Document\n",
    "from langchain.text_splitter import RecursiveCharacterTextSplitter\n",
    "# Function to load and chunk PDF documents\n",
    "def load_and_chunk_pdfs(directory_path):\n",
    "    docs = []\n",
    "    \n",
    "    # Iterate through all PDFs in the directory\n",
    "    for filename in os.listdir(directory_path):\n",
    "        if filename.endswith(\".pdf\"):\n",
    "            file_path = os.path.join(directory_path, filename)\n",
    "            \n",
    "            # Load the PDF\n",
    "            reader = PdfReader(file_path)\n",
    "            text = \"\"\n",
    "            for page in reader.pages:\n",
    "                text += page.extract_text()\n",
    "            \n",
    "            # Create a Document object from the extracted text\n",
    "            doc = Document(page_content=text, metadata={\"source\": filename})\n",
    "            docs.append(doc)\n",
    "    \n",
    "    # Set up the text splitter to chunk documents\n",
    "    text_splitter = RecursiveCharacterTextSplitter(chunk_size=1000, chunk_overlap=100)\n",
    "    \n",
    "    # Split the loaded documents into chunks\n",
    "    chunked_docs = text_splitter.split_documents(docs)\n",
    "    return chunked_docs\n"
   ]
  },
  {
   "cell_type": "code",
   "execution_count": 6,
   "metadata": {},
   "outputs": [],
   "source": [
    "# Extract text from PDFs\n",
    "pdf_directory = \"input\"  # Replace with your actual directory path\n",
    "pdf_content = load_and_chunk_pdfs(pdf_directory)"
   ]
  },
  {
   "cell_type": "code",
   "execution_count": 7,
   "metadata": {},
   "outputs": [
    {
     "name": "stderr",
     "output_type": "stream",
     "text": [
      "d:\\LawNavigator\\venv\\lib\\site-packages\\pydantic\\_internal\\_fields.py:132: UserWarning: Field \"model_name\" in HuggingFaceInferenceAPIEmbeddings has conflict with protected namespace \"model_\".\n",
      "\n",
      "You may be able to resolve this warning by setting `model_config['protected_namespaces'] = ()`.\n",
      "  warnings.warn(\n"
     ]
    }
   ],
   "source": [
    "from langchain_community.embeddings import HuggingFaceInferenceAPIEmbeddings\n",
    "\n",
    "hf_token = os.getenv(\"HF_TOKEN\")\n",
    "\n",
    "embeddings = HuggingFaceInferenceAPIEmbeddings(\n",
    "    api_key=hf_token, model_name=\"sentence-transformers/all-MiniLM-l6-v2\"\n",
    ")"
   ]
  },
  {
   "cell_type": "code",
   "execution_count": 8,
   "metadata": {},
   "outputs": [
    {
     "data": {
      "text/plain": [
       "['b5959372-f029-4464-8431-6bcdc71c57a9',\n",
       " 'a50c3962-b0e9-4b2c-a736-03155eb02c8f',\n",
       " 'ee9b33ea-40c6-46da-b53c-e17984c61883',\n",
       " '120d0c34-2a8e-44ce-b7ff-e9b091fc8636']"
      ]
     },
     "execution_count": 8,
     "metadata": {},
     "output_type": "execute_result"
    }
   ],
   "source": [
    "#Setting up the vector database\n",
    "from langchain_core.vectorstores import InMemoryVectorStore\n",
    "vectorstore = InMemoryVectorStore(embedding=embeddings)\n",
    "vectorstore.add_documents(pdf_content)"
   ]
  },
  {
   "cell_type": "code",
   "execution_count": 9,
   "metadata": {},
   "outputs": [],
   "source": [
    "retriever = vectorstore.as_retriever()"
   ]
  },
  {
   "cell_type": "code",
   "execution_count": 10,
   "metadata": {},
   "outputs": [],
   "source": [
    "from langchain.tools.retriever import create_retriever_tool\n",
    "\n",
    "retrieval_tool = create_retriever_tool(\n",
    "    retriever,\n",
    "    \"Pdf_content_retriever\",\n",
    "    \"Searches and returns excerpts from the set of pdf docs.\",\n",
    ")"
   ]
  },
  {
   "cell_type": "code",
   "execution_count": 16,
   "metadata": {},
   "outputs": [],
   "source": [
    "advisor_template = \"\"\"You are a legal research assistant tasked with providing \n",
    "legal advice based on the given vectorstore context. If needed, conduct \n",
    "additional research using the Tavily Search tool. Analyze the query for \n",
    "specific legal issues, reference relevant sections of legal documents, and \n",
    "ensure jurisdictional relevance. Consider conflicting interpretations or \n",
    "unclear areas of law, and provide practical recommendations or next steps. \n",
    "Include a disclaimer regarding the limitations of AI-generated legal advice.\"\"\"\n"
   ]
  },
  {
   "cell_type": "code",
   "execution_count": 12,
   "metadata": {},
   "outputs": [],
   "source": [
    "tools = [tavily_tool, retrieval_tool]"
   ]
  },
  {
   "cell_type": "code",
   "execution_count": 28,
   "metadata": {},
   "outputs": [],
   "source": [
    "# Define the graph\n",
    "\n",
    "from langgraph.prebuilt import create_react_agent\n",
    "\n",
    "advisor_graph = create_react_agent(chat, tools=tools, state_modifier=advisor_template)"
   ]
  },
  {
   "cell_type": "code",
   "execution_count": 29,
   "metadata": {},
   "outputs": [],
   "source": [
    "def print_stream(stream):\n",
    "    for s in stream:\n",
    "        message = s[\"messages\"][-1]\n",
    "        if isinstance(message, tuple):\n",
    "            print(message)\n",
    "        else:\n",
    "            message.pretty_print()"
   ]
  },
  {
   "cell_type": "code",
   "execution_count": 30,
   "metadata": {},
   "outputs": [
    {
     "name": "stdout",
     "output_type": "stream",
     "text": [
      "================================\u001b[1m Human Message \u001b[0m=================================\n",
      "\n",
      "What are the legal options for Fast Retail Pvt. Ltd. in this breach of contract case?\n",
      "==================================\u001b[1m Ai Message \u001b[0m==================================\n",
      "Tool Calls:\n",
      "  tavily_search_results_json (call_caqj)\n",
      " Call ID: call_caqj\n",
      "  Args:\n",
      "    query: legal options for Fast Retail Pvt. Ltd. in breach of contract case\n",
      "=================================\u001b[1m Tool Message \u001b[0m=================================\n",
      "Name: tavily_search_results_json\n",
      "\n",
      "[{\"url\": \"https://indiankanoon.org/doc/111578719/\", \"content\": \"Thus, since the defendant has failed to discharge the aforesaid onus, it can be safely concluded that the plaintiff vide email dated 28.02.2020 Ex.PW1/2 had offered the possession of the suit property and since the lease was to commence from 01.03.2020 and admittedly rent for the month of March also stood paid, the constructive possession of the suit property had vested with the defendant. It is pellucid from the aforesaid clause (4) of the lease agreement Ex.PW1/1 that the lock-in period of five months was provided from the lease commencement date i.e. 01.03.2020, which signifies, that both the parties were bound with the lease agreement for five months commencing from 01.03.2020, meaning thereby, that the plaintiff/landlord could not have got the suit property vacated from the defendant/tenant, and conversely defendant/tenant could not have 21 CS DJ NO.588/2021 Mrs. Vandana Dhirani Vs. Mrs.\"}, {\"url\": \"https://indiankanoon.org/doc/139497/\", \"content\": \"The grounds on which his conclusion was based may be summarised as follows: (1) the third, contract evidenced by purchase order No. 106 was granted although the previous two contracts being purchase orders Nos. 69 & 76 had not been fully performed and there were left only three days for compliance, (2) the urgency of food grains to prevent possible dislocation in administration by reason of discontentment of the railway staff precluded the possibility of refusal by the railway administration even when punctuality was not maintained which, in turn indicated that time was not an essential condition, (3) there was a previous contract, being purchase, order No. 57 (c) dated 10-7-1943, under which 1,600 bags had been accepted between 11-7-1943 and 19-7-1943, (4) at the time of entering into, the contract the plaintiff's hands were full, he haying made contracts to supply food grains to various other authorities namely, the State of Bihar, the Tatas and other concerns, which indicated that there could have been no question of a fixed time-table for the completion of the contract and (5) there was lack of space in the railway godowns and wagons were not provided to facilitate the supply.\"}, {\"url\": \"https://indiankanoon.org/doc/43520803/\", \"content\": \"Interestingly, unlike the civil suits where the jurisdiction is determined strictly in accordance with provisions of Sections 16 to 20 of CPC and the parties KAMAL KUMAR 2024.01.16 10:42 I attest to the accuracy and authenticity of this document CR-6898-2023 (O&M) (9) 2024:PHHC:004418 have no choice in the matter of jurisdiction, the scheme of the Arbitration Act does give an option to the parties to mutually designate place where arbitration proceedings are to be conducted and the Court which is to exercise supervisory jurisdiction, irrespective of the place where cause of action had arisen or where property is situated.\"}, {\"url\": \"https://indiankanoon.org/doc/186855368/\", \"content\": \"The pledge creates special rights including the right to sell the pawn to a third party and adjust the sale proceeds towards the debt in terms of Section 176 of the Contract Act. The reasoning that prior notice under Section 176 of the Contract Act would interfere with transparency and certainty in the securities market and render Civil Appeal No. 5443 of 2019 Page 72 of 86 \\f fatal blow to the Depositories Act and the 1996 Regulations is farfetched as it fails to notice that the right of the pawnee is to realise money on sale of the security.\"}]\n",
      "==================================\u001b[1m Ai Message \u001b[0m==================================\n",
      "\n",
      "Based on the search results, Fast Retail Pvt. Ltd. may have the following legal options in a breach of contract case:\n",
      "\n",
      "1. Examine the contract: Review the lease agreement (Ex.PW1/1) to identify the specific terms and conditions that have been breached. In this case, it appears that the defendant/tenant held possession of the suit property beyond the lock-in period of five months, which started from 01.03.2020.\n",
      "\n",
      "2. Establish breach: To prove a breach of contract, it is important to show that the defendant/tenant failed to perform or fulfill their obligations as stated in the lease agreement. In this case, the plaintiff/landlord offered possession of the suit property and made the necessary payment, but the defendant/tenant did not vacate the property.\n",
      "\n",
      "3. Determine remedies: Once a breach of contract has been established, the plaintiff/landlord can seek appropriate remedies. This may include claiming damages for the breach or seeking specific performance, such as demanding the defendant/tenant to vacate the property.\n",
      "\n",
      "4. Jurisdiction: In the context of arbitration, the parties can mutually designate the place where arbitration proceedings are to be conducted and the court that will exercise supervisory jurisdiction (irrespective of the place where the cause of action arose or where the property is situated). This may be relevant if the lease agreement contains an arbitration clause.\n",
      "\n",
      "5. Securities market: While the pledge creates special rights for the pawnee, such as the right to sell the pawn to a third party and adjust the sale proceeds towards the debt, it's essential to ensure that any actions taken do not interfere with transparency and certainty in the securities market.\n",
      "\n",
      "Please note that this advice is AI-generated and should not be considered a substitute for professional legal advice. AI systems can make mistakes and may not fully consider or understand all the relevant facts and laws. Moreover, the law may have changed since the information provided, and there may be additional or different facts that could affect the advice given.\n"
     ]
    }
   ],
   "source": [
    "inputs = {\"messages\": [(\"user\", \"What are the legal options for Fast Retail Pvt. Ltd. in this breach of contract case?\")]}\n",
    "\n",
    "async for chunk in advisor_graph.astream(inputs, stream_mode=\"values\"):\n",
    "    chunk[\"messages\"][-1].pretty_print()"
   ]
  },
  {
   "cell_type": "code",
   "execution_count": 21,
   "metadata": {},
   "outputs": [],
   "source": [
    "predictor_template = \"\"\"\n",
    "You are a legal research assistant. Your task is to predict the outcome of a legal case based on the given context and by conducting additional research using the Tavily Search tool when necessary.\n",
    "Context from the vectorstore\n",
    "Use this information as your primary source. If you need more recent or specific information, use the Tavily Search tool.\n",
    "Remember to:\n",
    "1. Analyze the case for relevant legal precedents, evidence, and arguments.\n",
    "2. Reference sections from the provided legal documents that support your prediction.\n",
    "3. Use the Tavily search tool for up-to-date case law or relevant outcomes.\n",
    "4. Provide your prediction of the case outcome in terms of confidence intervals (e.g., 70% chance of a favorable outcome for the plaintiff).\n",
    "5. Consider any jurisdictional differences and mention which jurisdiction your prediction pertains to.\n",
    "6. Highlight any factors that might create uncertainty or lead to different outcomes.\n",
    "7. Include a disclaimer about the limitations of AI-generated predictions and the factors that might influence real-world decisions.\n",
    "\"\"\"\n"
   ]
  },
  {
   "cell_type": "code",
   "execution_count": 22,
   "metadata": {},
   "outputs": [],
   "source": [
    "predictor_graph = create_react_agent(chat, tools=tools, state_modifier=predictor_template)"
   ]
  },
  {
   "cell_type": "code",
   "execution_count": 23,
   "metadata": {},
   "outputs": [
    {
     "name": "stdout",
     "output_type": "stream",
     "text": [
      "================================\u001b[1m Human Message \u001b[0m=================================\n",
      "\n",
      "Predict the likely outcome of Fast Retail's ₹80,00,000 breach of contract lawsuit against Tech Solutions.\n",
      "==================================\u001b[1m Ai Message \u001b[0m==================================\n",
      "Tool Calls:\n",
      "  tavily_search_results_json (call_gg7j)\n",
      " Call ID: call_gg7j\n",
      "  Args:\n",
      "    query: Fast Retail ₹80,00,000 breach of contract lawsuit against Tech Solutions recent court decisions\n",
      "=================================\u001b[1m Tool Message \u001b[0m=================================\n",
      "Name: tavily_search_results_json\n",
      "\n",
      "[{\"url\": \"https://www.taxmann.com/post/blog/basic-primer-on-the-indian-contract-act\", \"content\": \"Mar 24, 2023 · A comprehensive guide on the Indian Contract Act, which is the law governing contracts in India, covers the key definitions and principles ...Missing:  Fast lawsuit Solutions decisions\"}]\n",
      "==================================\u001b[1m Ai Message \u001b[0m==================================\n",
      "\n",
      "Based on the information provided and the result from the Tavily Search tool, it is challenging to make a precise prediction regarding the outcome of Fast Retail's ₹80,00,000 breach of contract lawsuit against Tech Solutions. However, I can provide some insights based on Indian contract law.\n",
      "\n",
      "The Indian Contract Act, 1872, governs contracts in India. A breach of contract occurs when one party fails to perform or fulfill its obligations under the contract without a lawful excuse. The aggrieved party may be entitled to various remedies, such as damages or specific performance, based on the nature and terms of the contract.\n",
      "\n",
      "However, the search results do not provide any recent court decisions specific to the Fast Retail and Tech Solutions lawsuit. Therefore, the prediction's accuracy is limited. It would be necessary to conduct a more thorough search or have access to more recent and specific information regarding the case to make a more informed and precise prediction.\n",
      "\n",
      "Taking into account the limited information available, I would predict a 60% chance of a favorable outcome for Fast Retail, considering the available Indian contract law. However, the actual outcome may vary depending on the specific facts and circumstances of the case, as well as the jurisdiction in which the lawsuit is being heard.\n",
      "\n",
      "This prediction is generated by an AI model and should be used for informational purposes only. Real-world decisions may be influenced by various factors not considered in this analysis.\n"
     ]
    }
   ],
   "source": [
    "inputs = {\"messages\": [(\"user\", \"\n",
    "Predict the likely outcome of Fast Retail's ₹80,00,000 breach of contract lawsuit against Tech Solutions.\")]}\n",
    "print_stream(predictor_graph.stream(inputs, stream_mode=\"values\"))"
   ]
  },
  {
   "cell_type": "code",
   "execution_count": null,
   "metadata": {},
   "outputs": [],
   "source": []
  }
 ],
 "metadata": {
  "kernelspec": {
   "display_name": "venv",
   "language": "python",
   "name": "python3"
  },
  "language_info": {
   "codemirror_mode": {
    "name": "ipython",
    "version": 3
   },
   "file_extension": ".py",
   "mimetype": "text/x-python",
   "name": "python",
   "nbconvert_exporter": "python",
   "pygments_lexer": "ipython3",
   "version": "3.10.4"
  }
 },
 "nbformat": 4,
 "nbformat_minor": 2
}
